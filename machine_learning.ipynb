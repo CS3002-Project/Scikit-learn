{
 "cells": [
  {
   "cell_type": "code",
   "execution_count": 89,
   "metadata": {},
   "outputs": [],
   "source": [
    "import numpy as np\n",
    "import os\n",
    "import pickle\n",
    "from sklearn.model_selection import train_test_split\n",
    "from tqdm import tqdm\n",
    "\n",
    "import utils\n",
    "\n",
    "feature_extracted_files = \"extracted\"\n",
    "original_files = \"processed\"\n"
   ]
  },
  {
   "cell_type": "code",
   "execution_count": 90,
   "metadata": {},
   "outputs": [
    {
     "name": "stderr",
     "output_type": "stream",
     "text": [
      "Extracting train file: 100%|██████████| 180/180 [00:02<00:00, 78.19it/s]\n",
      "Extracting test file: 100%|██████████| 20/20 [00:00<00:00, 134.16it/s]\n"
     ]
    }
   ],
   "source": [
    "\n",
    "def load_data(file_dir):\n",
    "    all_files = os.listdir(file_dir)\n",
    "    train_files, test_files = train_test_split(all_files, test_size=0.1)\n",
    "    X_train, y_train, X_test, y_test = [], [], [], []\n",
    "\n",
    "    for data_file in tqdm(train_files, desc=\"Extracting train file\"):\n",
    "        data_file_path = os.path.join(file_dir, data_file)\n",
    "        with open(data_file_path, \"r\") as f:\n",
    "            for line in f.readlines():\n",
    "                tokens = line.split(\"\\t\")\n",
    "                features = np.fromstring(tokens[1], sep=\" \")\n",
    "                label = tokens[2].strip()\n",
    "                X_train.append(features)\n",
    "                y_train.append(label)\n",
    "\n",
    "    for data_file in tqdm(test_files, desc=\"Extracting test file\"):\n",
    "        data_file_path = os.path.join(file_dir, data_file)\n",
    "        with open(data_file_path, \"r\") as f:\n",
    "            for line in f.readlines():\n",
    "                tokens = line.split(\"\\t\")\n",
    "                X_test.append(np.fromstring(tokens[1], sep=\" \"))\n",
    "                y_test.append(tokens[2].strip())\n",
    "    return X_train, y_train, X_test, y_test\n",
    "\n",
    "X_train, y_train, X_test, y_test = load_data(original_files)"
   ]
  },
  {
   "cell_type": "code",
   "execution_count": 91,
   "metadata": {},
   "outputs": [],
   "source": [
    "from sklearn.ensemble import RandomForestClassifier\n",
    "from sklearn.model_selection import GridSearchCV, ShuffleSplit\n",
    "from sklearn.preprocessing import StandardScaler\n",
    "\n",
    "\n",
    "def standardise_dataset(X_train, X_test):\n",
    "    sc = StandardScaler()\n",
    "    X_train = sc.fit_transform(X_train)\n",
    "    X_test = sc.fit_transform(X_test)\n",
    "    return X_train, X_test\n",
    "\n",
    "X_train, X_test = standardise_dataset(X_train, X_test)"
   ]
  },
  {
   "cell_type": "code",
   "execution_count": 92,
   "metadata": {},
   "outputs": [],
   "source": [
    "from sklearn.metrics import accuracy_score, f1_score, precision_score, recall_score\n",
    "\n",
    "def eval_model(y_test, y_pred_rfc):\n",
    "    accuracy = accuracy_score(y_test, y_pred_rfc)\n",
    "    precision = precision_score(y_test, y_pred_rfc, average=\"macro\")\n",
    "    recall = recall_score(y_test, y_pred_rfc, average=\"macro\")\n",
    "    f1 = f1_score(y_test, y_pred_rfc, average=\"macro\")\n",
    "    print(\"Accuracy: {}\".format(accuracy))\n",
    "    print(\"Precision: {}\".format(precision))\n",
    "    print(\"Recall: {}\".format(recall))\n",
    "    print(\"F1: {}\".format(f1))"
   ]
  },
  {
   "cell_type": "code",
   "execution_count": 93,
   "metadata": {},
   "outputs": [
    {
     "name": "stdout",
     "output_type": "stream",
     "text": [
      "Accuracy: 0.7992895204262878\n",
      "Precision: 0.6156880813200104\n",
      "Recall: 0.4762147468446122\n",
      "F1: 0.5112062346091091\n"
     ]
    },
    {
     "name": "stderr",
     "output_type": "stream",
     "text": [
      "/Users/vanguyen/anaconda3/envs/ceg/lib/python3.7/site-packages/sklearn/metrics/classification.py:1437: UndefinedMetricWarning: Precision is ill-defined and being set to 0.0 in labels with no predicted samples.\n",
      "  'precision', 'predicted', average, warn_for)\n",
      "/Users/vanguyen/anaconda3/envs/ceg/lib/python3.7/site-packages/sklearn/metrics/classification.py:1439: UndefinedMetricWarning: Recall is ill-defined and being set to 0.0 in labels with no true samples.\n",
      "  'recall', 'true', average, warn_for)\n",
      "/Users/vanguyen/anaconda3/envs/ceg/lib/python3.7/site-packages/sklearn/metrics/classification.py:1437: UndefinedMetricWarning: F-score is ill-defined and being set to 0.0 in labels with no predicted samples.\n",
      "  'precision', 'predicted', average, warn_for)\n",
      "/Users/vanguyen/anaconda3/envs/ceg/lib/python3.7/site-packages/sklearn/metrics/classification.py:1439: UndefinedMetricWarning: F-score is ill-defined and being set to 0.0 in labels with no true samples.\n",
      "  'recall', 'true', average, warn_for)\n"
     ]
    }
   ],
   "source": [
    "rfc = RandomForestClassifier(n_estimators=50) \n",
    " \n",
    "# param_grid = { \n",
    "#     'n_estimators': [200, 400, 600, 800],\n",
    "# }\n",
    "\n",
    "# CV_rfc = GridSearchCV(estimator=rfc, param_grid=param_grid, cv=ShuffleSplit(test_size=0.20, n_splits=1))\n",
    "# CV_rfc.fit(X_train, y_train)\n",
    "# y_pred = CV_rfc.predict(X_test)\n",
    "rfc.fit(X_train, y_train)\n",
    "y_pred_rfc = rfc.predict(X_test)\n",
    "eval_model(y_test, y_pred_rfc)\n",
    "\n",
    "with open(\"rf.p\", \"wb\") as f:\n",
    "    pickle.dump(rfc, f)"
   ]
  },
  {
   "cell_type": "code",
   "execution_count": 94,
   "metadata": {},
   "outputs": [
    {
     "name": "stdout",
     "output_type": "stream",
     "text": [
      "Accuracy: 0.9966449575685811\n",
      "Precision: 0.7961538461538462\n",
      "Recall: 0.7978898929746387\n",
      "F1: 0.79697523926379\n"
     ]
    },
    {
     "name": "stderr",
     "output_type": "stream",
     "text": [
      "/Users/vanguyen/anaconda3/envs/ceg/lib/python3.7/site-packages/sklearn/metrics/classification.py:1439: UndefinedMetricWarning: Recall is ill-defined and being set to 0.0 in labels with no true samples.\n",
      "  'recall', 'true', average, warn_for)\n",
      "/Users/vanguyen/anaconda3/envs/ceg/lib/python3.7/site-packages/sklearn/metrics/classification.py:1439: UndefinedMetricWarning: F-score is ill-defined and being set to 0.0 in labels with no true samples.\n",
      "  'recall', 'true', average, warn_for)\n"
     ]
    }
   ],
   "source": [
    "from sklearn.svm import SVC\n",
    "svm = SVC(gamma='auto')\n",
    "\n",
    "svm.fit(X_train, y_train)\n",
    "y_pred_svm = svm.predict(X_test)\n",
    "eval_model(y_test, y_pred_svm)\n",
    "\n",
    "with open(\"svm.p\", \"wb\") as f:\n",
    "    pickle.dump(svm, f)"
   ]
  },
  {
   "cell_type": "code",
   "execution_count": 95,
   "metadata": {},
   "outputs": [
    {
     "name": "stdout",
     "output_type": "stream",
     "text": [
      "Accuracy: 0.5279257943556345\n",
      "Precision: 0.1717360239960605\n",
      "Recall: 0.12599938867105748\n",
      "F1: 0.10392516694551085\n"
     ]
    },
    {
     "name": "stderr",
     "output_type": "stream",
     "text": [
      "/Users/vanguyen/anaconda3/envs/ceg/lib/python3.7/site-packages/sklearn/metrics/classification.py:1437: UndefinedMetricWarning: Precision is ill-defined and being set to 0.0 in labels with no predicted samples.\n",
      "  'precision', 'predicted', average, warn_for)\n",
      "/Users/vanguyen/anaconda3/envs/ceg/lib/python3.7/site-packages/sklearn/metrics/classification.py:1439: UndefinedMetricWarning: Recall is ill-defined and being set to 0.0 in labels with no true samples.\n",
      "  'recall', 'true', average, warn_for)\n",
      "/Users/vanguyen/anaconda3/envs/ceg/lib/python3.7/site-packages/sklearn/metrics/classification.py:1437: UndefinedMetricWarning: F-score is ill-defined and being set to 0.0 in labels with no predicted samples.\n",
      "  'precision', 'predicted', average, warn_for)\n",
      "/Users/vanguyen/anaconda3/envs/ceg/lib/python3.7/site-packages/sklearn/metrics/classification.py:1439: UndefinedMetricWarning: F-score is ill-defined and being set to 0.0 in labels with no true samples.\n",
      "  'recall', 'true', average, warn_for)\n"
     ]
    }
   ],
   "source": [
    "from sklearn.neural_network import MLPClassifier\n",
    "\n",
    "mlp = MLPClassifier(solver='lbfgs', alpha=1e-5, hidden_layer_sizes=(80, 50))\n",
    "mlp.fit(X_train, y_train)\n",
    "y_pred_mlp = mlp.predict(X_test)\n",
    "eval_model(y_test, y_pred_mlp)\n",
    "\n",
    "with open(\"mlp.p\", \"wb\") as f:\n",
    "    pickle.dump(mlp, f)"
   ]
  },
  {
   "cell_type": "code",
   "execution_count": null,
   "metadata": {},
   "outputs": [],
   "source": []
  }
 ],
 "metadata": {
  "kernelspec": {
   "display_name": "Python [conda env:ceg] *",
   "language": "python",
   "name": "conda-env-ceg-py"
  },
  "language_info": {
   "codemirror_mode": {
    "name": "ipython",
    "version": 3
   },
   "file_extension": ".py",
   "mimetype": "text/x-python",
   "name": "python",
   "nbconvert_exporter": "python",
   "pygments_lexer": "ipython3",
   "version": "3.7.3"
  }
 },
 "nbformat": 4,
 "nbformat_minor": 2
}
