{
 "cells": [
  {
   "cell_type": "code",
   "execution_count": 50,
   "metadata": {},
   "outputs": [],
   "source": [
    "import numpy as np\n",
    "import os\n",
    "from sklearn.model_selection import train_test_split\n",
    "from tqdm import tqdm\n",
    "\n",
    "import utils\n",
    "\n",
    "feature_extracted_files = os.listdir(\"extracted\")\n",
    "original_files = os.listdir(\"processed\")\n"
   ]
  },
  {
   "cell_type": "code",
   "execution_count": 51,
   "metadata": {},
   "outputs": [
    {
     "name": "stderr",
     "output_type": "stream",
     "text": [
      "Extracting train file: 100%|██████████| 180/180 [00:00<00:00, 478.97it/s]\n",
      "Extracting test file: 100%|██████████| 20/20 [00:00<00:00, 399.07it/s]\n"
     ]
    }
   ],
   "source": [
    "\n",
    "def load_data(file_dir):\n",
    "    train_files, test_files = train_test_split(all_files, test_size=0.1)\n",
    "    X_train, y_train, X_test, y_test = [], [], [], []\n",
    "\n",
    "    for data_file in tqdm(train_files, desc=\"Extracting train file\"):\n",
    "        data_file_path = os.path.join(\"extracted\", data_file)\n",
    "        with open(data_file_path, \"r\") as f:\n",
    "            for line in f.readlines():\n",
    "                tokens = line.split(\"\\t\")\n",
    "                X_train.append(np.fromstring(tokens[1], sep=\" \"))\n",
    "                y_train.append(tokens[2].strip())\n",
    "\n",
    "    for data_file in tqdm(test_files, desc=\"Extracting test file\"):\n",
    "        data_file_path = os.path.join(\"extracted\", data_file)\n",
    "        with open(data_file_path, \"r\") as f:\n",
    "            for line in f.readlines():\n",
    "                tokens = line.split(\"\\t\")\n",
    "                X_test.append(np.fromstring(tokens[1], sep=\" \"))\n",
    "                y_test.append(tokens[2].strip())\n",
    "    return X_train, y_train, X_test, y_test\n",
    "\n",
    "X_train, y_train, X_test, y_test = load_data(original_files)"
   ]
  },
  {
   "cell_type": "code",
   "execution_count": 52,
   "metadata": {},
   "outputs": [],
   "source": [
    "from sklearn.ensemble import RandomForestClassifier\n",
    "from sklearn.model_selection import GridSearchCV, ShuffleSplit\n",
    "from sklearn.preprocessing import StandardScaler\n",
    "\n",
    "\n",
    "def standardise_dataset(X_train, X_test):\n",
    "    sc = StandardScaler()\n",
    "    X_train = sc.fit_transform(X_train)\n",
    "    X_test = sc.fit_transform(X_test)\n",
    "    return X_train, X_test\n",
    "\n",
    "X_train, X_test = standardise_dataset(X_train, X_test)"
   ]
  },
  {
   "cell_type": "code",
   "execution_count": 53,
   "metadata": {},
   "outputs": [],
   "source": [
    "from sklearn.metrics import accuracy_score, f1_score, precision_score, recall_score\n",
    "\n",
    "def eval_model(y_test, y_pred_rfc):\n",
    "    accuracy = accuracy_score(y_test, y_pred_rfc)\n",
    "    precision = precision_score(y_test, y_pred_rfc, average=\"macro\")\n",
    "    recall = recall_score(y_test, y_pred_rfc, average=\"macro\")\n",
    "    f1 = f1_score(y_test, y_pred_rfc, average=\"macro\")\n",
    "    print(\"Accuracy: {}\".format(accuracy))\n",
    "    print(\"Precision: {}\".format(precision))\n",
    "    print(\"Recall: {}\".format(recall))\n",
    "    print(\"F1: {}\".format(f1))"
   ]
  },
  {
   "cell_type": "code",
   "execution_count": 54,
   "metadata": {},
   "outputs": [
    {
     "name": "stdout",
     "output_type": "stream",
     "text": [
      "Accuracy: 0.8028747433264887\n",
      "Precision: 0.2082598316513286\n",
      "Recall: 0.16349761010074576\n",
      "F1: 0.1660895316748018\n"
     ]
    },
    {
     "name": "stderr",
     "output_type": "stream",
     "text": [
      "/Users/vanguyen/anaconda3/envs/ceg/lib/python3.7/site-packages/sklearn/metrics/classification.py:1439: UndefinedMetricWarning: Recall is ill-defined and being set to 0.0 in labels with no true samples.\n",
      "  'recall', 'true', average, warn_for)\n",
      "/Users/vanguyen/anaconda3/envs/ceg/lib/python3.7/site-packages/sklearn/metrics/classification.py:1439: UndefinedMetricWarning: F-score is ill-defined and being set to 0.0 in labels with no true samples.\n",
      "  'recall', 'true', average, warn_for)\n"
     ]
    }
   ],
   "source": [
    "rfc = RandomForestClassifier(n_estimators=50) \n",
    " \n",
    "# param_grid = { \n",
    "#     'n_estimators': [200, 400, 600, 800],\n",
    "# }\n",
    "\n",
    "# CV_rfc = GridSearchCV(estimator=rfc, param_grid=param_grid, cv=ShuffleSplit(test_size=0.20, n_splits=1))\n",
    "# CV_rfc.fit(X_train, y_train)\n",
    "# y_pred = CV_rfc.predict(X_test)\n",
    "rfc.fit(X_train, y_train)\n",
    "y_pred_rfc = rfc.predict(X_test)\n",
    "eval_model(y_test, y_pred_rfc)"
   ]
  },
  {
   "cell_type": "code",
   "execution_count": 55,
   "metadata": {},
   "outputs": [
    {
     "name": "stdout",
     "output_type": "stream",
     "text": [
      "Accuracy: 0.8709298914637724\n",
      "Precision: 0.22770743999116352\n",
      "Recall: 0.17681185542561215\n",
      "F1: 0.1883566371223618\n"
     ]
    },
    {
     "name": "stderr",
     "output_type": "stream",
     "text": [
      "/Users/vanguyen/anaconda3/envs/ceg/lib/python3.7/site-packages/sklearn/metrics/classification.py:1439: UndefinedMetricWarning: Recall is ill-defined and being set to 0.0 in labels with no true samples.\n",
      "  'recall', 'true', average, warn_for)\n",
      "/Users/vanguyen/anaconda3/envs/ceg/lib/python3.7/site-packages/sklearn/metrics/classification.py:1439: UndefinedMetricWarning: F-score is ill-defined and being set to 0.0 in labels with no true samples.\n",
      "  'recall', 'true', average, warn_for)\n"
     ]
    }
   ],
   "source": [
    "from sklearn.svm import SVC\n",
    "svm = SVC(gamma='auto')\n",
    "\n",
    "svm.fit(X_train, y_train)\n",
    "y_pred_svm = svm.predict(X_test)\n",
    "eval_model(y_test, y_pred_svm)"
   ]
  },
  {
   "cell_type": "code",
   "execution_count": 56,
   "metadata": {},
   "outputs": [
    {
     "name": "stdout",
     "output_type": "stream",
     "text": [
      "Accuracy: 0.5855089469052508\n",
      "Precision: 0.09906536751249011\n",
      "Recall: 0.07300653636709302\n",
      "F1: 0.08080505900664132\n"
     ]
    },
    {
     "name": "stderr",
     "output_type": "stream",
     "text": [
      "/Users/vanguyen/anaconda3/envs/ceg/lib/python3.7/site-packages/sklearn/metrics/classification.py:1437: UndefinedMetricWarning: Precision is ill-defined and being set to 0.0 in labels with no predicted samples.\n",
      "  'precision', 'predicted', average, warn_for)\n",
      "/Users/vanguyen/anaconda3/envs/ceg/lib/python3.7/site-packages/sklearn/metrics/classification.py:1439: UndefinedMetricWarning: Recall is ill-defined and being set to 0.0 in labels with no true samples.\n",
      "  'recall', 'true', average, warn_for)\n",
      "/Users/vanguyen/anaconda3/envs/ceg/lib/python3.7/site-packages/sklearn/metrics/classification.py:1437: UndefinedMetricWarning: F-score is ill-defined and being set to 0.0 in labels with no predicted samples.\n",
      "  'precision', 'predicted', average, warn_for)\n",
      "/Users/vanguyen/anaconda3/envs/ceg/lib/python3.7/site-packages/sklearn/metrics/classification.py:1439: UndefinedMetricWarning: F-score is ill-defined and being set to 0.0 in labels with no true samples.\n",
      "  'recall', 'true', average, warn_for)\n"
     ]
    }
   ],
   "source": [
    "from sklearn.neural_network import MLPClassifier\n",
    "\n",
    "mlp = MLPClassifier(solver='lbfgs', alpha=1e-5, hidden_layer_sizes=(5, 2))\n",
    "mlp.fit(X_train, y_train)\n",
    "y_pred_mlp = mlp.predict(X_test)\n",
    "eval_model(y_test, y_pred_mlp)"
   ]
  },
  {
   "cell_type": "code",
   "execution_count": null,
   "metadata": {},
   "outputs": [],
   "source": []
  }
 ],
 "metadata": {
  "kernelspec": {
   "display_name": "Python [conda env:ceg] *",
   "language": "python",
   "name": "conda-env-ceg-py"
  },
  "language_info": {
   "codemirror_mode": {
    "name": "ipython",
    "version": 3
   },
   "file_extension": ".py",
   "mimetype": "text/x-python",
   "name": "python",
   "nbconvert_exporter": "python",
   "pygments_lexer": "ipython3",
   "version": "3.7.3"
  }
 },
 "nbformat": 4,
 "nbformat_minor": 2
}
