{
 "cells": [
  {
   "cell_type": "code",
   "execution_count": 25,
   "metadata": {},
   "outputs": [
    {
     "name": "stderr",
     "output_type": "stream",
     "text": [
      "Extracting train file: 100%|██████████| 180/180 [00:01<00:00, 105.16it/s]\n",
      "Extracting test file: 100%|██████████| 20/20 [00:00<00:00, 133.04it/s]\n"
     ]
    }
   ],
   "source": [
    "import numpy as np\n",
    "import os\n",
    "from sklearn.model_selection import train_test_split\n",
    "from tqdm import tqdm\n",
    "\n",
    "import utils\n",
    "\n",
    "all_files = os.listdir(\"extracted\")\n",
    "train_files, test_files = train_test_split(all_files, test_size=0.1)\n",
    "X_train, y_train, X_test, y_test = [], [], [], []\n",
    "\n",
    "for data_file in tqdm(train_files, desc=\"Extracting train file\"):\n",
    "    data_file_path = os.path.join(\"extracted\", data_file)\n",
    "    with open(data_file_path, \"r\") as f:\n",
    "        for line in f.readlines():\n",
    "            tokens = line.split(\"\\t\")\n",
    "            X_train.append(np.fromstring(tokens[1], sep=\" \"))\n",
    "            y_train.append(tokens[2].strip())\n",
    "\n",
    "for data_file in tqdm(test_files, desc=\"Extracting test file\"):\n",
    "    data_file_path = os.path.join(\"extracted\", data_file)\n",
    "    with open(data_file_path, \"r\") as f:\n",
    "        for line in f.readlines():\n",
    "            tokens = line.split(\"\\t\")\n",
    "            X_test.append(np.fromstring(tokens[1], sep=\" \"))\n",
    "            y_test.append(tokens[2].strip())"
   ]
  },
  {
   "cell_type": "code",
   "execution_count": null,
   "metadata": {},
   "outputs": [],
   "source": [
    "from sklearn.ensemble import RandomForestClassifier\n",
    "from sklearn.model_selection import GridSearchCV, ShuffleSplit\n",
    "from sklearn.preprocessing import StandardScaler\n",
    "\n",
    "\n",
    "def standardise_dataset(X_train, X_test):\n",
    "    sc = StandardScaler()\n",
    "    X_train = sc.fit_transform(X_train)\n",
    "    X_test = sc.fit_transform(X_test)\n",
    "    return X_train, X_test\n",
    "\n",
    "X_train, X_test = standardise_dataset(X_train, X_test)\n",
    "\n",
    "rfc = RandomForestClassifier(n_estimators=50) \n",
    " \n",
    "param_grid = { \n",
    "    'n_estimators': [200, 400, 600, 800],\n",
    "}\n",
    "\n",
    "CV_rfc = GridSearchCV(estimator=rfc, param_grid=param_grid, cv=ShuffleSplit(test_size=0.20, n_splits=1))\n",
    "CV_rfc.fit(X_train, y_train)\n",
    "y_pred = CV_rfc.predict(X_test)"
   ]
  },
  {
   "cell_type": "code",
   "execution_count": null,
   "metadata": {},
   "outputs": [],
   "source": [
    "from sklearn.metrics import accuracy_score, f1_score, precision_score, recall_score\n",
    "\n",
    "accuracy = accuracy_score(y_true, y_pred)\n",
    "precision = precision_score(y_true, y_pred, average=\"macro\")\n",
    "recall = recall_score(y_true, y_pred, average=\"macro\")\n",
    "f1 = f1_score(y_true, y_pred, average=\"macro\")\n",
    "print(\"Accuracy: {}\".format(accuracy))\n",
    "print(\"Precision: {}\".format(precision))\n",
    "print(\"Recall: {}\".format(recall))\n",
    "print(\"F1: {}\".format(f1))\n"
   ]
  }
 ],
 "metadata": {
  "kernelspec": {
   "display_name": "Python [conda env:ceg] *",
   "language": "python",
   "name": "conda-env-ceg-py"
  },
  "language_info": {
   "codemirror_mode": {
    "name": "ipython",
    "version": 3
   },
   "file_extension": ".py",
   "mimetype": "text/x-python",
   "name": "python",
   "nbconvert_exporter": "python",
   "pygments_lexer": "ipython3",
   "version": "3.7.3"
  }
 },
 "nbformat": 4,
 "nbformat_minor": 2
}
