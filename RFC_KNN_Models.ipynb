{
 "cells": [
  {
   "cell_type": "code",
   "execution_count": 3,
   "metadata": {},
   "outputs": [],
   "source": [
    "import pandas as pd\n",
    "import numpy as np\n",
    "import time\n",
    "from sklearn.neighbors import KNeighborsClassifier\n",
    "from sklearn.ensemble import RandomForestClassifier\n",
    "from sklearn.model_selection import train_test_split\n",
    "from sklearn.metrics import confusion_matrix, classification_report\n",
    "from sklearn.preprocessing import StandardScaler\n",
    "from sklearn.model_selection import GridSearchCV\n",
    "\n",
    "#Using dataset with ideal placement of sensors.\n",
    "data = pd.read_csv(\"subject4_ideal.log\",delim_whitespace=True,header=None)\n",
    "\n"
   ]
  },
  {
   "cell_type": "code",
   "execution_count": 4,
   "metadata": {},
   "outputs": [],
   "source": [
    "##Preprocessing\n",
    "\n",
    "#Standardize features by removing the mean and scaling to unit variance\n",
    "def standardise_dataset(X_train, X_test):\n",
    "    sc = StandardScaler()\n",
    "    X_train = sc.fit_transform(X_train)\n",
    "    X_test = sc.fit_transform(X_test)\n",
    "    return X_train, X_test\n",
    "\n",
    "#Dropping QUAT and MAG columns as they are not relevant to the context of our project\n",
    "delete_columns = []\n",
    "count = 0;\n",
    "i = 2;\n",
    "#print (len(data.columns))\n",
    "while i < len(data.columns):\n",
    "    count += 1\n",
    "    if(count==6):\n",
    "        #print(i)\n",
    "        for j in range(8):\n",
    "            delete_columns.append(i)\n",
    "            i += 1\n",
    "            #print(delete_columns)\n",
    "        count = 0\n",
    "        i -=1\n",
    "    i += 1\n",
    "#print(len(delete_columns))\n",
    "#print(delete_columns)\n",
    "\n",
    "X = data.drop(delete_columns, axis = 1)        \n",
    "Y = data[119]\n",
    "\n",
    "#Splitting dataset into 80% training data and 20% test data\n",
    "X_train, X_test, y_train, y_test = train_test_split(X, Y, test_size = 0.2)\n",
    "\n",
    "#Standardize features\n",
    "X_train, X_test = standardise_dataset(X_train, X_test)\n"
   ]
  },
  {
   "cell_type": "code",
   "execution_count": 7,
   "metadata": {
    "scrolled": true
   },
   "outputs": [
    {
     "name": "stdout",
     "output_type": "stream",
     "text": [
      "Train Accuracy: 0.9899723607927734\n",
      "Test Accuracy: 0.9828109201213346\n",
      "\n",
      "--- 346.7757000923157 seconds ---\n",
      "Train Accuracy: 1.0\n",
      "Test Accuracy: 0.9997303673744523\n",
      "\n",
      "--- 6.6391801834106445 seconds ---\n"
     ]
    }
   ],
   "source": [
    "# def unique(list1): \n",
    "  \n",
    "#     unique_list = [] \n",
    "      \n",
    "#     for x in list1: \n",
    "#         # check if exists in unique_list or not \n",
    "#         if x not in unique_list: \n",
    "#             unique_list.append(x) \n",
    "#     # print list\n",
    "#     unique_list.sort()\n",
    "#     print(unique_list)\n",
    "\n",
    "      \n",
    "def train_model(model, X_train, y_train):\n",
    "    clf = model\n",
    "    clf.fit(X_train, y_train)\n",
    "    return clf\n",
    "\n",
    "def eval_model(clf, X_test, y_test, X_train, y_train):\n",
    "    pred_clf = clf.predict(X_test)\n",
    "    #print(pred_clf)\n",
    "    #unique(pred_clf) \n",
    "    acc_test = clf.score(X_test, y_test)\n",
    "    acc_train = clf.score(X_train, y_train)\n",
    "    print(\"Train Accuracy: {}\".format(acc_train))    \n",
    "    print(\"Test Accuracy: {}\".format(acc_test))\n",
    "    #print(classification_report(y_test, pred_clf))\n",
    "\n",
    "start_time = time.time()\n",
    "knn_clf = train_model(KNeighborsClassifier(), X_train, y_train)\n",
    "eval_model(knn_clf, X_test, y_test, X_train, y_train)\n",
    "print(\"--- %s seconds ---\" % (time.time() - start_time))\n",
    "print(\"\")\n",
    "\n",
    "\n",
    "start_time = time.time()\n",
    "rf_clf = train_model(RandomForestClassifier(n_estimators = 20), X_train, y_train)\n",
    "eval_model(rf_clf, X_test, y_test, X_train, y_train)\n",
    "print(\"--- %s seconds ---\" % (time.time() - start_time))\n",
    "print(\"\")\n",
    "\n",
    "# param_grid = { \n",
    "#     'n_estimators': [200, 700],\n",
    "# }\n",
    "# rfc = RandomForestClassifier(n_estimators=50) \n",
    "# CV_rfc = GridSearchCV(estimator=rfc, param_grid=param_grid)\n",
    "# CV_rfc.fit(X_train, y_train)\n",
    "# print (CV_rfc.best_params_)"
   ]
  },
  {
   "cell_type": "code",
   "execution_count": null,
   "metadata": {},
   "outputs": [],
   "source": []
  }
 ],
 "metadata": {
  "kernelspec": {
   "display_name": "Python 3",
   "language": "python",
   "name": "python3"
  },
  "language_info": {
   "codemirror_mode": {
    "name": "ipython",
    "version": 3
   },
   "file_extension": ".py",
   "mimetype": "text/x-python",
   "name": "python",
   "nbconvert_exporter": "python",
   "pygments_lexer": "ipython3",
   "version": "3.7.3"
  }
 },
 "nbformat": 4,
 "nbformat_minor": 2
}
